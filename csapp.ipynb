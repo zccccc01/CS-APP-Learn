{
 "cells": [
  {
   "cell_type": "markdown",
   "id": "bfec4df3-a3ae-4f68-93c8-3da8b4b0a12b",
   "metadata": {},
   "source": [
    "# csapp学习"
   ]
  },
  {
   "cell_type": "markdown",
   "id": "5ef1e25d-1a41-458b-9400-2517171bf4b0",
   "metadata": {},
   "source": [
    "## 第二章: 信息的表示与处理"
   ]
  },
  {
   "cell_type": "markdown",
   "id": "fe5ed7be-f194-440a-aebc-d56ba31c76ab",
   "metadata": {},
   "source": [
    "### d2h.pl"
   ]
  },
  {
   "cell_type": "code",
   "execution_count": null,
   "id": "a093c786-aac9-420c-b170-e5114ad38edf",
   "metadata": {},
   "outputs": [],
   "source": [
    "!usr/local/bin/perl\n",
    "# 十进制2十六进制\n",
    "\n",
    "# for ($i = 0; $i < @ARGV; $i++) {\n",
    "#     printf(\"%d\\t= 0x%x\\n\", $ARGV[$i], $ARGV[$i]);\n",
    "# }\n",
    "\n",
    "# 十六进制2十进制\n",
    "\n",
    "for ($i = 0; $i < @ARGV; $i++) {\n",
    "    $val = hex($ARGV[$i]);\n",
    "    printf(\"0x%x\\t= %d\\n\", $val, $val);\n",
    "}"
   ]
  },
  {
   "cell_type": "markdown",
   "id": "d005bcdd-3257-44ec-817a-e7a2fc564930",
   "metadata": {},
   "source": [
    "### show_bytes.c"
   ]
  },
  {
   "cell_type": "code",
   "execution_count": 10,
   "id": "9b621678-40d9-4897-8650-b3dff3060c18",
   "metadata": {},
   "outputs": [
    {
     "name": "stdout",
     "output_type": "stream",
     "text": [
      "sx = -12345:\tc7cf\n",
      "uy = 4294954951:\tc7cfffff\n"
     ]
    }
   ],
   "source": [
    "#include <stdio.h>\n",
    "\n",
    "typedef unsigned char* byte_pointer;\n",
    "\n",
    "void show_bytes(byte_pointer start, int len) {\n",
    "  for (int i = 0; i < len; i++) {\n",
    "    printf(\"%.2x\", start[i]);\n",
    "  }\n",
    "  printf(\"\\n\");\n",
    "}\n",
    "\n",
    "void show_int(int x) { show_bytes((byte_pointer)&x, sizeof(int)); }\n",
    "\n",
    "void show_float(float x) { show_bytes((byte_pointer)&x, sizeof(float)); }\n",
    "\n",
    "void show_pointer(void* x) { show_bytes((byte_pointer)&x, sizeof(void*)); }\n",
    "\n",
    "void test_show_bytes(int val) {\n",
    "  int ival = val;\n",
    "  float fval = (float)val;\n",
    "  int* pval = &val;\n",
    "  show_int(ival);\n",
    "  show_float(fval);\n",
    "  show_pointer(pval);\n",
    "}\n",
    "\n",
    "int main() {\n",
    "  short sx = -12345;\n",
    "  unsigned uy = sx;\n",
    "\n",
    "  printf(\"sx = %d:\\t\", sx);\n",
    "  show_bytes((byte_pointer)&sx, sizeof(short));\n",
    "\n",
    "  printf(\"uy = %u:\\t\", uy);\n",
    "  show_bytes((byte_pointer)&uy, sizeof(unsigned));\n",
    "}\n"
   ]
  },
  {
   "cell_type": "markdown",
   "id": "2c49cb75-1138-4af7-ab10-06eb5be4cbbe",
   "metadata": {},
   "source": [
    "### bit.c"
   ]
  },
  {
   "cell_type": "code",
   "execution_count": null,
   "id": "3e4a3a12-ee3b-4b9a-ab0f-82adcd978a6b",
   "metadata": {},
   "outputs": [],
   "source": [
    "#include <stdbool.h>  // 定义 bool, true, false\n",
    "#include <stdio.h>\n",
    "\n",
    "// // 将m为1的位设置到x 1\n",
    "// int bis(int x, int m);\n",
    "// // 将m为1的位设置到x 0\n",
    "// int bic(int x, int m);\n",
    "\n",
    "// int bool_xor(int x, int y) {\n",
    "//   int res = bis(bic(x, y), bic(y, x));\n",
    "//   return res;\n",
    "// }\n",
    "\n",
    "int get_low_eight(int x) {\n",
    "  int mask = 0xFF;\n",
    "  return x & mask;\n",
    "}\n",
    "\n",
    "/**\n",
    " * @brief 保留最低位,其余位取反\n",
    " * @note 值得学习的思路,任何^0都是本身\n",
    " */\n",
    "int save_low_eight_not(int x) {\n",
    "  int mask = ~0xFF;\n",
    "  return x ^ mask;\n",
    "}\n",
    "\n",
    "int set_low_eight_one(int x) {\n",
    "  int mask = 0xFF;\n",
    "  return x | mask;\n",
    "}\n",
    "\n",
    "bool same(int x, int y) { return !(x ^ y); }"
   ]
  },
  {
   "cell_type": "markdown",
   "id": "a951b644-d4af-4149-8e1a-6fc72ff66946",
   "metadata": {},
   "source": [
    "### expand_num.c"
   ]
  },
  {
   "cell_type": "code",
   "execution_count": 14,
   "id": "e80fa2e0-9ed0-478d-960e-41ce5c806edd",
   "metadata": {},
   "outputs": [
    {
     "name": "stdout",
     "output_type": "stream",
     "text": [
      "x = 4294967295,  = -1\n",
      "u = 2147483648,  = -2147483648\n"
     ]
    }
   ],
   "source": [
    "#include <limits.h>\n",
    "#include <stdio.h>\n",
    "\n",
    "/**\n",
    " * @note 提取低8位的值 0-255的整数\n",
    " */\n",
    "int fun1(unsigned word) { return (int)((word << 24) >> 24); }\n",
    "\n",
    "/**\n",
    " * @note 提取低8位的值且符号拓展 -128-127的整数\n",
    " */\n",
    "int fun2(unsigned word) { return ((int)word << 24) >> 24; }\n",
    "\n",
    "int main() {\n",
    "  int x = -1;\n",
    "  unsigned u = 2147483648;\n",
    "  printf(\"x = %u,  = %d\\n\", x, x);\n",
    "  printf(\"u = %u,  = %d\\n\", u, u);\n",
    "}"
   ]
  },
  {
   "cell_type": "markdown",
   "id": "0441121d-5cfe-48bd-ab25-fb83a0d5b0df",
   "metadata": {},
   "source": [
    "### reverse.c 用位运算技巧swap"
   ]
  },
  {
   "cell_type": "code",
   "execution_count": null,
   "id": "e9da279c-0734-4d8f-8348-90a82804d41e",
   "metadata": {},
   "outputs": [],
   "source": [
    "#include <stdio.h>\n",
    "\n",
    "void inplace_swap(int* x, int* y) {\n",
    "  *y = *x ^ *y;\n",
    "  *x = *x ^ *y;\n",
    "  *y = *x ^ *y;\n",
    "}\n",
    "\n",
    "void reverse_array(int a[], int cnt) {\n",
    "  int last = cnt - 1;\n",
    "  for (int i = 0; i <= last; i++, last--) {\n",
    "    if (i == last) {\n",
    "      break;\n",
    "    }\n",
    "    inplace_swap(&a[i], &a[last]);\n",
    "  }\n",
    "}"
   ]
  }
 ],
 "metadata": {
  "kernelspec": {
   "display_name": "C",
   "language": "c",
   "name": "c"
  },
  "language_info": {
   "file_extension": ".c",
   "mimetype": "text/plain",
   "name": "c"
  }
 },
 "nbformat": 4,
 "nbformat_minor": 5
}
